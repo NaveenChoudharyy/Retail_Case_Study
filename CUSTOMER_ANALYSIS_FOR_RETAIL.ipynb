{
 "cells": [
  {
   "cell_type": "markdown",
   "id": "4079914e",
   "metadata": {},
   "source": [
    "# Import packages"
   ]
  },
  {
   "cell_type": "code",
   "execution_count": 1,
   "id": "c4a4c5e6",
   "metadata": {},
   "outputs": [],
   "source": [
    "import numpy as np\n",
    "import pandas as pd\n",
    "import seaborn as sns\n",
    "import datetime as dt\n",
    "import math as math\n",
    "import scipy.stats as stats\n",
    "import matplotlib.pyplot as plt"
   ]
  },
  {
   "cell_type": "markdown",
   "id": "d7991657",
   "metadata": {},
   "source": [
    "# Case study - CUSTOMER ANALYSIS FOR RETAIL"
   ]
  },
  {
   "cell_type": "markdown",
   "id": "0a11d90f",
   "metadata": {},
   "source": [
    "# ANALYTICS IN RETAIL:\n",
    "    \n",
    "    With the retail market getting more and more competitive by the day, there has never been \n",
    "    anything more important than the ability for optimizing service business processes when \n",
    "    trying to satisfy the expectations of customers. Channelizing and managing data with the \n",
    "    aim of working in favor of the customer as well as generating profits is very significant for \n",
    "    survival.\n",
    "\n",
    "    Ideally, a retailer’s customer data reflects the company’s success in reaching and nurturing \n",
    "    its customers. Retailers built reports summarizing customer behavior using metrics such as \n",
    "    conversion rate, average order value, recency of purchase and total amount spent in recent \n",
    "    transactions. These measurements provided general insight into the behavioral tendencies \n",
    "    of customers.\n",
    "\n",
    "    Customer intelligence is the practice of determining and delivering data-driven insights into \n",
    "    past and predicted future customer behavior.To be effective, customer intelligence must \n",
    "    combine raw transactional and behavioral data to generate derived measures.\n",
    "\n",
    "    In a nutshell, for big retail players all over the world, data analytics is applied more these \n",
    "    days at all stages of the retail process – taking track of popular products that are emerging, \n",
    "    doing forecasts of sales and future demand via predictive simulation, optimizing placements\n",
    "    of products and offers through heat-mapping of customers and many others."
   ]
  },
  {
   "cell_type": "markdown",
   "id": "1c3c0ddf",
   "metadata": {},
   "source": [
    "# DATA AVAILABILITY:\n",
    "###    Retail Data.xlsx\n",
    "                o This book has three sheets (Customer, Transaction, Product Heirarchy)\n",
    "                o Customer: Customers information including demographics\n",
    "                o Transaction: Transactions of customers\n",
    "                o Product Heirarchy: Product information (cateogry, sub category etc...)"
   ]
  },
  {
   "cell_type": "markdown",
   "id": "a4e0670f",
   "metadata": {},
   "source": [
    "## BUSINESS PROBLEM:\n",
    "\n",
    "A Retail store is required to analyze the day-to-day transactions and keep a track of its customers \n",
    "spread across various locations along with their purchases/returns across various categories. \n",
    "\n",
    "Create a report and display the below calculated metrics, reports and inferences.\n",
    "\n",
    "\n",
    "    1. Merge the datasets Customers, Product Hierarchy and Transactions as Customer_Final. Ensure to\n",
    "    keep all customers who have done transactions with us and select the join type accordingly.\n",
    "\n",
    "    2. Prepare a summary report for the merged data set.\n",
    "         a. Get the column names and their corresponding data types\n",
    "         b. Top/Bottom 10 observations\n",
    "         c. “Five-number summary” for continuous variables (min, Q1, median, Q3 and max)\n",
    "         d. Frequency tables for all the categorical variables\n",
    "    \n",
    "    3. Generate histograms for all continuous variables and frequency bars for categorical variables.\n",
    "    \n",
    "    4. Calculate the following information using the merged dataset :\n",
    "         a. Time period of the available transaction data\n",
    "         b. Count of transactions where the total amount of transaction was negative\n",
    "        \n",
    "    5. Analyze which product categories are more popular among females vs male customers.\n",
    "    \n",
    "    6. Which City code has the maximum customers and what was the percentage of customers from \n",
    "    that city?\n",
    "    \n",
    "    7. Which store type sells the maximum products by value and by quantity?\n",
    "    \n",
    "    8. What was the total amount earned from the \"Electronics\" and \"Clothing\" categories from \n",
    "    Flagship Stores?\n",
    "    \n",
    "    9. What was the total amount earned from \"Male\" customers under the \"Electronics\" category?\n",
    "    \n",
    "    10. How many customers have more than 10 unique transactions, after removing all transactions \n",
    "    which have any negative amounts?\n",
    "    \n",
    "    11. For all customers aged between 25 - 35, find out:\n",
    "         a. What was the total amount spent for “Electronics” and “Books” product categories?\n",
    "         b. What was the total amount spent by these customers between 1st Jan, 2014 to 1st Mar, 2014?\n"
   ]
  },
  {
   "cell_type": "code",
   "execution_count": 2,
   "id": "c196636c",
   "metadata": {},
   "outputs": [],
   "source": [
    "# Importing datasets\n",
    "\n",
    "cust = pd.read_csv(\"C:/Users/navee/OneDrive/Desktop/Data_Science_360/Case_studies/Completed/Python/Python_Foundation_Case_Study_1_Retail_Case_Study/Case_Study_1_Retail_Case_Study/Customer.csv\")\n",
    "\n",
    "prod = pd.read_csv(\"C:/Users/navee/OneDrive/Desktop/Data_Science_360/Case_studies/Completed/Python/Python_Foundation_Case_Study_1_Retail_Case_Study/Case_Study_1_Retail_Case_Study/prod_cat_info.csv\")\n",
    "\n",
    "trans = pd.read_csv(\"C:/Users/navee/OneDrive/Desktop/Data_Science_360/Case_studies/Completed/Python/Python_Foundation_Case_Study_1_Retail_Case_Study/Case_Study_1_Retail_Case_Study/Transactions.csv\")"
   ]
  },
  {
   "cell_type": "code",
   "execution_count": 3,
   "id": "423fae73",
   "metadata": {},
   "outputs": [
    {
     "name": "stdout",
     "output_type": "stream",
     "text": [
      "<class 'pandas.core.frame.DataFrame'>\n",
      "RangeIndex: 5647 entries, 0 to 5646\n",
      "Data columns (total 4 columns):\n",
      " #   Column       Non-Null Count  Dtype  \n",
      "---  ------       --------------  -----  \n",
      " 0   customer_Id  5647 non-null   int64  \n",
      " 1   DOB          5647 non-null   object \n",
      " 2   Gender       5645 non-null   object \n",
      " 3   city_code    5645 non-null   float64\n",
      "dtypes: float64(1), int64(1), object(2)\n",
      "memory usage: 176.6+ KB\n"
     ]
    }
   ],
   "source": [
    "cust.info()"
   ]
  },
  {
   "cell_type": "code",
   "execution_count": 4,
   "id": "88d73c08",
   "metadata": {},
   "outputs": [
    {
     "name": "stdout",
     "output_type": "stream",
     "text": [
      "<class 'pandas.core.frame.DataFrame'>\n",
      "RangeIndex: 23 entries, 0 to 22\n",
      "Data columns (total 4 columns):\n",
      " #   Column             Non-Null Count  Dtype \n",
      "---  ------             --------------  ----- \n",
      " 0   prod_cat_code      23 non-null     int64 \n",
      " 1   prod_cat           23 non-null     object\n",
      " 2   prod_sub_cat_code  23 non-null     int64 \n",
      " 3   prod_subcat        23 non-null     object\n",
      "dtypes: int64(2), object(2)\n",
      "memory usage: 864.0+ bytes\n"
     ]
    }
   ],
   "source": [
    "prod.info()"
   ]
  },
  {
   "cell_type": "code",
   "execution_count": 5,
   "id": "81756d8c",
   "metadata": {},
   "outputs": [
    {
     "name": "stdout",
     "output_type": "stream",
     "text": [
      "<class 'pandas.core.frame.DataFrame'>\n",
      "RangeIndex: 23053 entries, 0 to 23052\n",
      "Data columns (total 10 columns):\n",
      " #   Column            Non-Null Count  Dtype  \n",
      "---  ------            --------------  -----  \n",
      " 0   transaction_id    23053 non-null  int64  \n",
      " 1   cust_id           23053 non-null  int64  \n",
      " 2   tran_date         23053 non-null  object \n",
      " 3   prod_subcat_code  23053 non-null  int64  \n",
      " 4   prod_cat_code     23053 non-null  int64  \n",
      " 5   Qty               23053 non-null  int64  \n",
      " 6   Rate              23053 non-null  int64  \n",
      " 7   Tax               23053 non-null  float64\n",
      " 8   total_amt         23053 non-null  float64\n",
      " 9   Store_type        23053 non-null  object \n",
      "dtypes: float64(2), int64(6), object(2)\n",
      "memory usage: 1.8+ MB\n"
     ]
    }
   ],
   "source": [
    "trans.info()"
   ]
  },
  {
   "cell_type": "code",
   "execution_count": 6,
   "id": "fc003a7c",
   "metadata": {},
   "outputs": [
    {
     "name": "stdout",
     "output_type": "stream",
     "text": [
      "Duplicate records in table cust:  0\n",
      "Duplicate records in table trans:  13\n",
      "Duplicate records in table prod:  0\n"
     ]
    }
   ],
   "source": [
    "print('Duplicate records in table cust: ',cust.duplicated().sum())\n",
    "print('Duplicate records in table trans: ',trans.duplicated().sum())\n",
    "print('Duplicate records in table prod: ',prod.duplicated().sum())\n"
   ]
  },
  {
   "cell_type": "code",
   "execution_count": 7,
   "id": "d7761805",
   "metadata": {},
   "outputs": [
    {
     "name": "stdout",
     "output_type": "stream",
     "text": [
      "Duplicate records in table trans:  0\n"
     ]
    }
   ],
   "source": [
    "# Dropping duplicate records in table trans\n",
    "trans.drop_duplicates(inplace=True)\n",
    "print('Duplicate records in table trans: ',trans.duplicated().sum())\n"
   ]
  },
  {
   "cell_type": "code",
   "execution_count": 8,
   "id": "21463d2b",
   "metadata": {},
   "outputs": [],
   "source": [
    "trans['tran_date'] = trans.tran_date.apply(lambda x: x.replace(\"-\",\"/\"))\n",
    "cust['DOB']  = cust.DOB.apply(lambda x: x.replace(\"-\",\"/\"))\n",
    "\n",
    "# Correcting the format\n",
    "trans['tran_date'] = pd.to_datetime(trans.tran_date, format='%d/%m/%Y')\n",
    "cust['DOB'] = pd.to_datetime(cust.DOB, format='%d/%m/%Y')\n",
    "\n"
   ]
  },
  {
   "cell_type": "code",
   "execution_count": 9,
   "id": "b70e233b",
   "metadata": {},
   "outputs": [
    {
     "name": "stdout",
     "output_type": "stream",
     "text": [
      "datetime64[ns]\n",
      "datetime64[ns]\n"
     ]
    }
   ],
   "source": [
    "# Checking datatype\n",
    "print(trans['tran_date'].dtype)\n",
    "print(cust['DOB'].dtype)"
   ]
  },
  {
   "cell_type": "code",
   "execution_count": 10,
   "id": "00fb1369",
   "metadata": {},
   "outputs": [
    {
     "data": {
      "text/html": [
       "<div>\n",
       "<style scoped>\n",
       "    .dataframe tbody tr th:only-of-type {\n",
       "        vertical-align: middle;\n",
       "    }\n",
       "\n",
       "    .dataframe tbody tr th {\n",
       "        vertical-align: top;\n",
       "    }\n",
       "\n",
       "    .dataframe thead th {\n",
       "        text-align: right;\n",
       "    }\n",
       "</style>\n",
       "<table border=\"1\" class=\"dataframe\">\n",
       "  <thead>\n",
       "    <tr style=\"text-align: right;\">\n",
       "      <th></th>\n",
       "      <th>customer_Id</th>\n",
       "      <th>DOB</th>\n",
       "      <th>Gender</th>\n",
       "      <th>city_code</th>\n",
       "    </tr>\n",
       "  </thead>\n",
       "  <tbody>\n",
       "    <tr>\n",
       "      <th>0</th>\n",
       "      <td>268408</td>\n",
       "      <td>1970-01-02</td>\n",
       "      <td>M</td>\n",
       "      <td>4.0</td>\n",
       "    </tr>\n",
       "    <tr>\n",
       "      <th>1</th>\n",
       "      <td>269696</td>\n",
       "      <td>1970-01-07</td>\n",
       "      <td>F</td>\n",
       "      <td>8.0</td>\n",
       "    </tr>\n",
       "    <tr>\n",
       "      <th>2</th>\n",
       "      <td>268159</td>\n",
       "      <td>1970-01-08</td>\n",
       "      <td>F</td>\n",
       "      <td>8.0</td>\n",
       "    </tr>\n",
       "    <tr>\n",
       "      <th>3</th>\n",
       "      <td>270181</td>\n",
       "      <td>1970-01-10</td>\n",
       "      <td>F</td>\n",
       "      <td>2.0</td>\n",
       "    </tr>\n",
       "    <tr>\n",
       "      <th>4</th>\n",
       "      <td>268073</td>\n",
       "      <td>1970-01-11</td>\n",
       "      <td>M</td>\n",
       "      <td>1.0</td>\n",
       "    </tr>\n",
       "  </tbody>\n",
       "</table>\n",
       "</div>"
      ],
      "text/plain": [
       "   customer_Id        DOB Gender  city_code\n",
       "0       268408 1970-01-02      M        4.0\n",
       "1       269696 1970-01-07      F        8.0\n",
       "2       268159 1970-01-08      F        8.0\n",
       "3       270181 1970-01-10      F        2.0\n",
       "4       268073 1970-01-11      M        1.0"
      ]
     },
     "execution_count": 10,
     "metadata": {},
     "output_type": "execute_result"
    }
   ],
   "source": [
    "cust.head()"
   ]
  },
  {
   "cell_type": "code",
   "execution_count": null,
   "id": "024b949d",
   "metadata": {},
   "outputs": [],
   "source": []
  },
  {
   "cell_type": "code",
   "execution_count": 11,
   "id": "93cbaca2",
   "metadata": {},
   "outputs": [
    {
     "data": {
      "text/html": [
       "<div>\n",
       "<style scoped>\n",
       "    .dataframe tbody tr th:only-of-type {\n",
       "        vertical-align: middle;\n",
       "    }\n",
       "\n",
       "    .dataframe tbody tr th {\n",
       "        vertical-align: top;\n",
       "    }\n",
       "\n",
       "    .dataframe thead th {\n",
       "        text-align: right;\n",
       "    }\n",
       "</style>\n",
       "<table border=\"1\" class=\"dataframe\">\n",
       "  <thead>\n",
       "    <tr style=\"text-align: right;\">\n",
       "      <th></th>\n",
       "      <th>customer_Id</th>\n",
       "      <th>DOB</th>\n",
       "      <th>Gender</th>\n",
       "      <th>city_code</th>\n",
       "    </tr>\n",
       "  </thead>\n",
       "  <tbody>\n",
       "    <tr>\n",
       "      <th>0</th>\n",
       "      <td>268408</td>\n",
       "      <td>1970-01-02</td>\n",
       "      <td>M</td>\n",
       "      <td>4.0</td>\n",
       "    </tr>\n",
       "    <tr>\n",
       "      <th>1</th>\n",
       "      <td>269696</td>\n",
       "      <td>1970-01-07</td>\n",
       "      <td>F</td>\n",
       "      <td>8.0</td>\n",
       "    </tr>\n",
       "    <tr>\n",
       "      <th>2</th>\n",
       "      <td>268159</td>\n",
       "      <td>1970-01-08</td>\n",
       "      <td>F</td>\n",
       "      <td>8.0</td>\n",
       "    </tr>\n",
       "    <tr>\n",
       "      <th>3</th>\n",
       "      <td>270181</td>\n",
       "      <td>1970-01-10</td>\n",
       "      <td>F</td>\n",
       "      <td>2.0</td>\n",
       "    </tr>\n",
       "    <tr>\n",
       "      <th>4</th>\n",
       "      <td>268073</td>\n",
       "      <td>1970-01-11</td>\n",
       "      <td>M</td>\n",
       "      <td>1.0</td>\n",
       "    </tr>\n",
       "  </tbody>\n",
       "</table>\n",
       "</div>"
      ],
      "text/plain": [
       "   customer_Id        DOB Gender  city_code\n",
       "0       268408 1970-01-02      M        4.0\n",
       "1       269696 1970-01-07      F        8.0\n",
       "2       268159 1970-01-08      F        8.0\n",
       "3       270181 1970-01-10      F        2.0\n",
       "4       268073 1970-01-11      M        1.0"
      ]
     },
     "execution_count": 11,
     "metadata": {},
     "output_type": "execute_result"
    }
   ],
   "source": [
    "cust.head()"
   ]
  },
  {
   "cell_type": "code",
   "execution_count": 12,
   "id": "8ed083aa",
   "metadata": {},
   "outputs": [
    {
     "data": {
      "text/html": [
       "<div>\n",
       "<style scoped>\n",
       "    .dataframe tbody tr th:only-of-type {\n",
       "        vertical-align: middle;\n",
       "    }\n",
       "\n",
       "    .dataframe tbody tr th {\n",
       "        vertical-align: top;\n",
       "    }\n",
       "\n",
       "    .dataframe thead th {\n",
       "        text-align: right;\n",
       "    }\n",
       "</style>\n",
       "<table border=\"1\" class=\"dataframe\">\n",
       "  <thead>\n",
       "    <tr style=\"text-align: right;\">\n",
       "      <th></th>\n",
       "      <th>transaction_id</th>\n",
       "      <th>cust_id</th>\n",
       "      <th>tran_date</th>\n",
       "      <th>prod_subcat_code</th>\n",
       "      <th>prod_cat_code</th>\n",
       "      <th>Qty</th>\n",
       "      <th>Rate</th>\n",
       "      <th>Tax</th>\n",
       "      <th>total_amt</th>\n",
       "      <th>Store_type</th>\n",
       "    </tr>\n",
       "  </thead>\n",
       "  <tbody>\n",
       "    <tr>\n",
       "      <th>0</th>\n",
       "      <td>80712190438</td>\n",
       "      <td>270351</td>\n",
       "      <td>2014-02-28</td>\n",
       "      <td>1</td>\n",
       "      <td>1</td>\n",
       "      <td>-5</td>\n",
       "      <td>-772</td>\n",
       "      <td>405.300</td>\n",
       "      <td>-4265.300</td>\n",
       "      <td>e-Shop</td>\n",
       "    </tr>\n",
       "    <tr>\n",
       "      <th>1</th>\n",
       "      <td>29258453508</td>\n",
       "      <td>270384</td>\n",
       "      <td>2014-02-27</td>\n",
       "      <td>5</td>\n",
       "      <td>3</td>\n",
       "      <td>-5</td>\n",
       "      <td>-1497</td>\n",
       "      <td>785.925</td>\n",
       "      <td>-8270.925</td>\n",
       "      <td>e-Shop</td>\n",
       "    </tr>\n",
       "    <tr>\n",
       "      <th>2</th>\n",
       "      <td>51750724947</td>\n",
       "      <td>273420</td>\n",
       "      <td>2014-02-24</td>\n",
       "      <td>6</td>\n",
       "      <td>5</td>\n",
       "      <td>-2</td>\n",
       "      <td>-791</td>\n",
       "      <td>166.110</td>\n",
       "      <td>-1748.110</td>\n",
       "      <td>TeleShop</td>\n",
       "    </tr>\n",
       "    <tr>\n",
       "      <th>3</th>\n",
       "      <td>93274880719</td>\n",
       "      <td>271509</td>\n",
       "      <td>2014-02-24</td>\n",
       "      <td>11</td>\n",
       "      <td>6</td>\n",
       "      <td>-3</td>\n",
       "      <td>-1363</td>\n",
       "      <td>429.345</td>\n",
       "      <td>-4518.345</td>\n",
       "      <td>e-Shop</td>\n",
       "    </tr>\n",
       "    <tr>\n",
       "      <th>4</th>\n",
       "      <td>51750724947</td>\n",
       "      <td>273420</td>\n",
       "      <td>2014-02-23</td>\n",
       "      <td>6</td>\n",
       "      <td>5</td>\n",
       "      <td>-2</td>\n",
       "      <td>-791</td>\n",
       "      <td>166.110</td>\n",
       "      <td>-1748.110</td>\n",
       "      <td>TeleShop</td>\n",
       "    </tr>\n",
       "  </tbody>\n",
       "</table>\n",
       "</div>"
      ],
      "text/plain": [
       "   transaction_id  cust_id  tran_date  prod_subcat_code  prod_cat_code  Qty  \\\n",
       "0     80712190438   270351 2014-02-28                 1              1   -5   \n",
       "1     29258453508   270384 2014-02-27                 5              3   -5   \n",
       "2     51750724947   273420 2014-02-24                 6              5   -2   \n",
       "3     93274880719   271509 2014-02-24                11              6   -3   \n",
       "4     51750724947   273420 2014-02-23                 6              5   -2   \n",
       "\n",
       "   Rate      Tax  total_amt Store_type  \n",
       "0  -772  405.300  -4265.300     e-Shop  \n",
       "1 -1497  785.925  -8270.925     e-Shop  \n",
       "2  -791  166.110  -1748.110   TeleShop  \n",
       "3 -1363  429.345  -4518.345     e-Shop  \n",
       "4  -791  166.110  -1748.110   TeleShop  "
      ]
     },
     "execution_count": 12,
     "metadata": {},
     "output_type": "execute_result"
    }
   ],
   "source": [
    "trans.head()"
   ]
  },
  {
   "cell_type": "code",
   "execution_count": 13,
   "id": "ec9c4a41",
   "metadata": {},
   "outputs": [
    {
     "data": {
      "text/html": [
       "<div>\n",
       "<style scoped>\n",
       "    .dataframe tbody tr th:only-of-type {\n",
       "        vertical-align: middle;\n",
       "    }\n",
       "\n",
       "    .dataframe tbody tr th {\n",
       "        vertical-align: top;\n",
       "    }\n",
       "\n",
       "    .dataframe thead th {\n",
       "        text-align: right;\n",
       "    }\n",
       "</style>\n",
       "<table border=\"1\" class=\"dataframe\">\n",
       "  <thead>\n",
       "    <tr style=\"text-align: right;\">\n",
       "      <th></th>\n",
       "      <th>prod_cat_code</th>\n",
       "      <th>prod_cat</th>\n",
       "      <th>prod_sub_cat_code</th>\n",
       "      <th>prod_subcat</th>\n",
       "    </tr>\n",
       "  </thead>\n",
       "  <tbody>\n",
       "    <tr>\n",
       "      <th>0</th>\n",
       "      <td>1</td>\n",
       "      <td>Clothing</td>\n",
       "      <td>4</td>\n",
       "      <td>Mens</td>\n",
       "    </tr>\n",
       "    <tr>\n",
       "      <th>1</th>\n",
       "      <td>1</td>\n",
       "      <td>Clothing</td>\n",
       "      <td>1</td>\n",
       "      <td>Women</td>\n",
       "    </tr>\n",
       "    <tr>\n",
       "      <th>2</th>\n",
       "      <td>1</td>\n",
       "      <td>Clothing</td>\n",
       "      <td>3</td>\n",
       "      <td>Kids</td>\n",
       "    </tr>\n",
       "    <tr>\n",
       "      <th>3</th>\n",
       "      <td>2</td>\n",
       "      <td>Footwear</td>\n",
       "      <td>1</td>\n",
       "      <td>Mens</td>\n",
       "    </tr>\n",
       "    <tr>\n",
       "      <th>4</th>\n",
       "      <td>2</td>\n",
       "      <td>Footwear</td>\n",
       "      <td>3</td>\n",
       "      <td>Women</td>\n",
       "    </tr>\n",
       "  </tbody>\n",
       "</table>\n",
       "</div>"
      ],
      "text/plain": [
       "   prod_cat_code  prod_cat  prod_sub_cat_code prod_subcat\n",
       "0              1  Clothing                  4        Mens\n",
       "1              1  Clothing                  1       Women\n",
       "2              1  Clothing                  3        Kids\n",
       "3              2  Footwear                  1        Mens\n",
       "4              2  Footwear                  3       Women"
      ]
     },
     "execution_count": 13,
     "metadata": {},
     "output_type": "execute_result"
    }
   ],
   "source": [
    "prod.head()"
   ]
  },
  {
   "cell_type": "markdown",
   "id": "9f3c408f",
   "metadata": {},
   "source": [
    "\n"
   ]
  },
  {
   "cell_type": "markdown",
   "id": "07e343b7",
   "metadata": {},
   "source": [
    "\n"
   ]
  },
  {
   "cell_type": "markdown",
   "id": "f9bca5e5",
   "metadata": {},
   "source": [
    "### 1. Merge the datasets Customers, Product Hierarchy and Transactions as Customer_Final. Ensure to keep all customers who have done transactions with us and select the join type accordingly."
   ]
  },
  {
   "cell_type": "code",
   "execution_count": 14,
   "id": "7f44b149",
   "metadata": {},
   "outputs": [],
   "source": [
    "cust_final  = pd.merge(trans, cust, left_on= 'cust_id', \n",
    "                       right_on='customer_Id', \n",
    "                       how='left').merge(prod, left_on=['prod_cat_code',\n",
    "                                                        'prod_subcat_code'], \n",
    "                                                                 right_on=['prod_cat_code', 'prod_sub_cat_code'], \n",
    "                                                                 how='left').drop(columns=['customer_Id','prod_cat_code',\n",
    "                                                                                           'prod_subcat_code'])"
   ]
  },
  {
   "cell_type": "code",
   "execution_count": 15,
   "id": "792485d5",
   "metadata": {},
   "outputs": [
    {
     "data": {
      "text/plain": [
       "transaction_id       0\n",
       "cust_id              0\n",
       "tran_date            0\n",
       "Qty                  0\n",
       "Rate                 0\n",
       "Tax                  0\n",
       "total_amt            0\n",
       "Store_type           0\n",
       "DOB                  0\n",
       "Gender               9\n",
       "city_code            8\n",
       "prod_cat             0\n",
       "prod_sub_cat_code    0\n",
       "prod_subcat          0\n",
       "dtype: int64"
      ]
     },
     "execution_count": 15,
     "metadata": {},
     "output_type": "execute_result"
    }
   ],
   "source": [
    "cust_final.isna().sum()\n",
    "# gender and city_code has null values"
   ]
  },
  {
   "cell_type": "markdown",
   "id": "821054b0",
   "metadata": {},
   "source": [
    "\n"
   ]
  },
  {
   "cell_type": "markdown",
   "id": "ee627eb0",
   "metadata": {},
   "source": [
    "### Prepare a summary report for the merged data set."
   ]
  },
  {
   "cell_type": "markdown",
   "id": "1ce10da9",
   "metadata": {},
   "source": [
    "\n"
   ]
  },
  {
   "cell_type": "markdown",
   "id": "a106c947",
   "metadata": {},
   "source": [
    "#####    a. Get the column names and their corresponding data types"
   ]
  },
  {
   "cell_type": "code",
   "execution_count": 16,
   "id": "e4e03b5b",
   "metadata": {},
   "outputs": [
    {
     "name": "stdout",
     "output_type": "stream",
     "text": [
      "<class 'pandas.core.frame.DataFrame'>\n",
      "Int64Index: 23040 entries, 0 to 23039\n",
      "Data columns (total 14 columns):\n",
      " #   Column             Non-Null Count  Dtype         \n",
      "---  ------             --------------  -----         \n",
      " 0   transaction_id     23040 non-null  int64         \n",
      " 1   cust_id            23040 non-null  int64         \n",
      " 2   tran_date          23040 non-null  datetime64[ns]\n",
      " 3   Qty                23040 non-null  int64         \n",
      " 4   Rate               23040 non-null  int64         \n",
      " 5   Tax                23040 non-null  float64       \n",
      " 6   total_amt          23040 non-null  float64       \n",
      " 7   Store_type         23040 non-null  object        \n",
      " 8   DOB                23040 non-null  datetime64[ns]\n",
      " 9   Gender             23031 non-null  object        \n",
      " 10  city_code          23032 non-null  float64       \n",
      " 11  prod_cat           23040 non-null  object        \n",
      " 12  prod_sub_cat_code  23040 non-null  int64         \n",
      " 13  prod_subcat        23040 non-null  object        \n",
      "dtypes: datetime64[ns](2), float64(3), int64(5), object(4)\n",
      "memory usage: 2.6+ MB\n"
     ]
    }
   ],
   "source": [
    "cust_final.info()"
   ]
  },
  {
   "cell_type": "markdown",
   "id": "1fc26e8a",
   "metadata": {},
   "source": [
    "\n"
   ]
  },
  {
   "cell_type": "markdown",
   "id": "bf87986c",
   "metadata": {},
   "source": [
    "#####    b. Top/Bottom 10 observations"
   ]
  },
  {
   "cell_type": "code",
   "execution_count": 17,
   "id": "0d66d3f3",
   "metadata": {},
   "outputs": [
    {
     "data": {
      "text/html": [
       "<div>\n",
       "<style scoped>\n",
       "    .dataframe tbody tr th:only-of-type {\n",
       "        vertical-align: middle;\n",
       "    }\n",
       "\n",
       "    .dataframe tbody tr th {\n",
       "        vertical-align: top;\n",
       "    }\n",
       "\n",
       "    .dataframe thead th {\n",
       "        text-align: right;\n",
       "    }\n",
       "</style>\n",
       "<table border=\"1\" class=\"dataframe\">\n",
       "  <thead>\n",
       "    <tr style=\"text-align: right;\">\n",
       "      <th></th>\n",
       "      <th>transaction_id</th>\n",
       "      <th>cust_id</th>\n",
       "      <th>tran_date</th>\n",
       "      <th>Qty</th>\n",
       "      <th>Rate</th>\n",
       "      <th>Tax</th>\n",
       "      <th>total_amt</th>\n",
       "      <th>Store_type</th>\n",
       "      <th>DOB</th>\n",
       "      <th>Gender</th>\n",
       "      <th>city_code</th>\n",
       "      <th>prod_cat</th>\n",
       "      <th>prod_sub_cat_code</th>\n",
       "      <th>prod_subcat</th>\n",
       "    </tr>\n",
       "  </thead>\n",
       "  <tbody>\n",
       "    <tr>\n",
       "      <th>0</th>\n",
       "      <td>80712190438</td>\n",
       "      <td>270351</td>\n",
       "      <td>2014-02-28</td>\n",
       "      <td>-5</td>\n",
       "      <td>-772</td>\n",
       "      <td>405.300</td>\n",
       "      <td>-4265.300</td>\n",
       "      <td>e-Shop</td>\n",
       "      <td>1981-09-26</td>\n",
       "      <td>M</td>\n",
       "      <td>5.0</td>\n",
       "      <td>Clothing</td>\n",
       "      <td>1</td>\n",
       "      <td>Women</td>\n",
       "    </tr>\n",
       "    <tr>\n",
       "      <th>1</th>\n",
       "      <td>29258453508</td>\n",
       "      <td>270384</td>\n",
       "      <td>2014-02-27</td>\n",
       "      <td>-5</td>\n",
       "      <td>-1497</td>\n",
       "      <td>785.925</td>\n",
       "      <td>-8270.925</td>\n",
       "      <td>e-Shop</td>\n",
       "      <td>1973-05-11</td>\n",
       "      <td>F</td>\n",
       "      <td>8.0</td>\n",
       "      <td>Electronics</td>\n",
       "      <td>5</td>\n",
       "      <td>Computers</td>\n",
       "    </tr>\n",
       "    <tr>\n",
       "      <th>2</th>\n",
       "      <td>51750724947</td>\n",
       "      <td>273420</td>\n",
       "      <td>2014-02-24</td>\n",
       "      <td>-2</td>\n",
       "      <td>-791</td>\n",
       "      <td>166.110</td>\n",
       "      <td>-1748.110</td>\n",
       "      <td>TeleShop</td>\n",
       "      <td>1992-07-27</td>\n",
       "      <td>M</td>\n",
       "      <td>8.0</td>\n",
       "      <td>Books</td>\n",
       "      <td>6</td>\n",
       "      <td>DIY</td>\n",
       "    </tr>\n",
       "    <tr>\n",
       "      <th>3</th>\n",
       "      <td>93274880719</td>\n",
       "      <td>271509</td>\n",
       "      <td>2014-02-24</td>\n",
       "      <td>-3</td>\n",
       "      <td>-1363</td>\n",
       "      <td>429.345</td>\n",
       "      <td>-4518.345</td>\n",
       "      <td>e-Shop</td>\n",
       "      <td>1981-06-08</td>\n",
       "      <td>M</td>\n",
       "      <td>3.0</td>\n",
       "      <td>Home and kitchen</td>\n",
       "      <td>11</td>\n",
       "      <td>Bath</td>\n",
       "    </tr>\n",
       "    <tr>\n",
       "      <th>4</th>\n",
       "      <td>51750724947</td>\n",
       "      <td>273420</td>\n",
       "      <td>2014-02-23</td>\n",
       "      <td>-2</td>\n",
       "      <td>-791</td>\n",
       "      <td>166.110</td>\n",
       "      <td>-1748.110</td>\n",
       "      <td>TeleShop</td>\n",
       "      <td>1992-07-27</td>\n",
       "      <td>M</td>\n",
       "      <td>8.0</td>\n",
       "      <td>Books</td>\n",
       "      <td>6</td>\n",
       "      <td>DIY</td>\n",
       "    </tr>\n",
       "    <tr>\n",
       "      <th>5</th>\n",
       "      <td>97439039119</td>\n",
       "      <td>272357</td>\n",
       "      <td>2014-02-23</td>\n",
       "      <td>-2</td>\n",
       "      <td>-824</td>\n",
       "      <td>173.040</td>\n",
       "      <td>-1821.040</td>\n",
       "      <td>TeleShop</td>\n",
       "      <td>1982-10-09</td>\n",
       "      <td>F</td>\n",
       "      <td>6.0</td>\n",
       "      <td>Electronics</td>\n",
       "      <td>8</td>\n",
       "      <td>Personal Appliances</td>\n",
       "    </tr>\n",
       "    <tr>\n",
       "      <th>6</th>\n",
       "      <td>45649838090</td>\n",
       "      <td>273667</td>\n",
       "      <td>2014-02-22</td>\n",
       "      <td>-1</td>\n",
       "      <td>-1450</td>\n",
       "      <td>152.250</td>\n",
       "      <td>-1602.250</td>\n",
       "      <td>e-Shop</td>\n",
       "      <td>1981-05-29</td>\n",
       "      <td>M</td>\n",
       "      <td>9.0</td>\n",
       "      <td>Home and kitchen</td>\n",
       "      <td>11</td>\n",
       "      <td>Bath</td>\n",
       "    </tr>\n",
       "    <tr>\n",
       "      <th>7</th>\n",
       "      <td>22643667930</td>\n",
       "      <td>271489</td>\n",
       "      <td>2014-02-22</td>\n",
       "      <td>-1</td>\n",
       "      <td>-1225</td>\n",
       "      <td>128.625</td>\n",
       "      <td>-1353.625</td>\n",
       "      <td>TeleShop</td>\n",
       "      <td>1971-04-21</td>\n",
       "      <td>M</td>\n",
       "      <td>9.0</td>\n",
       "      <td>Home and kitchen</td>\n",
       "      <td>12</td>\n",
       "      <td>Tools</td>\n",
       "    </tr>\n",
       "    <tr>\n",
       "      <th>8</th>\n",
       "      <td>79792372943</td>\n",
       "      <td>275108</td>\n",
       "      <td>2014-02-22</td>\n",
       "      <td>-3</td>\n",
       "      <td>-908</td>\n",
       "      <td>286.020</td>\n",
       "      <td>-3010.020</td>\n",
       "      <td>MBR</td>\n",
       "      <td>1971-11-04</td>\n",
       "      <td>F</td>\n",
       "      <td>8.0</td>\n",
       "      <td>Clothing</td>\n",
       "      <td>3</td>\n",
       "      <td>Kids</td>\n",
       "    </tr>\n",
       "    <tr>\n",
       "      <th>9</th>\n",
       "      <td>50076728598</td>\n",
       "      <td>269014</td>\n",
       "      <td>2014-02-21</td>\n",
       "      <td>-4</td>\n",
       "      <td>-581</td>\n",
       "      <td>244.020</td>\n",
       "      <td>-2568.020</td>\n",
       "      <td>e-Shop</td>\n",
       "      <td>1979-11-27</td>\n",
       "      <td>F</td>\n",
       "      <td>3.0</td>\n",
       "      <td>Electronics</td>\n",
       "      <td>8</td>\n",
       "      <td>Personal Appliances</td>\n",
       "    </tr>\n",
       "  </tbody>\n",
       "</table>\n",
       "</div>"
      ],
      "text/plain": [
       "   transaction_id  cust_id  tran_date  Qty  Rate      Tax  total_amt  \\\n",
       "0     80712190438   270351 2014-02-28   -5  -772  405.300  -4265.300   \n",
       "1     29258453508   270384 2014-02-27   -5 -1497  785.925  -8270.925   \n",
       "2     51750724947   273420 2014-02-24   -2  -791  166.110  -1748.110   \n",
       "3     93274880719   271509 2014-02-24   -3 -1363  429.345  -4518.345   \n",
       "4     51750724947   273420 2014-02-23   -2  -791  166.110  -1748.110   \n",
       "5     97439039119   272357 2014-02-23   -2  -824  173.040  -1821.040   \n",
       "6     45649838090   273667 2014-02-22   -1 -1450  152.250  -1602.250   \n",
       "7     22643667930   271489 2014-02-22   -1 -1225  128.625  -1353.625   \n",
       "8     79792372943   275108 2014-02-22   -3  -908  286.020  -3010.020   \n",
       "9     50076728598   269014 2014-02-21   -4  -581  244.020  -2568.020   \n",
       "\n",
       "  Store_type        DOB Gender  city_code          prod_cat  \\\n",
       "0     e-Shop 1981-09-26      M        5.0          Clothing   \n",
       "1     e-Shop 1973-05-11      F        8.0       Electronics   \n",
       "2   TeleShop 1992-07-27      M        8.0             Books   \n",
       "3     e-Shop 1981-06-08      M        3.0  Home and kitchen   \n",
       "4   TeleShop 1992-07-27      M        8.0             Books   \n",
       "5   TeleShop 1982-10-09      F        6.0       Electronics   \n",
       "6     e-Shop 1981-05-29      M        9.0  Home and kitchen   \n",
       "7   TeleShop 1971-04-21      M        9.0  Home and kitchen   \n",
       "8        MBR 1971-11-04      F        8.0          Clothing   \n",
       "9     e-Shop 1979-11-27      F        3.0       Electronics   \n",
       "\n",
       "   prod_sub_cat_code          prod_subcat  \n",
       "0                  1                Women  \n",
       "1                  5            Computers  \n",
       "2                  6                  DIY  \n",
       "3                 11                 Bath  \n",
       "4                  6                  DIY  \n",
       "5                  8  Personal Appliances  \n",
       "6                 11                 Bath  \n",
       "7                 12                Tools  \n",
       "8                  3                 Kids  \n",
       "9                  8  Personal Appliances  "
      ]
     },
     "execution_count": 17,
     "metadata": {},
     "output_type": "execute_result"
    }
   ],
   "source": [
    "cust_final.head(10)"
   ]
  },
  {
   "cell_type": "code",
   "execution_count": 18,
   "id": "361fad12",
   "metadata": {},
   "outputs": [
    {
     "data": {
      "text/html": [
       "<div>\n",
       "<style scoped>\n",
       "    .dataframe tbody tr th:only-of-type {\n",
       "        vertical-align: middle;\n",
       "    }\n",
       "\n",
       "    .dataframe tbody tr th {\n",
       "        vertical-align: top;\n",
       "    }\n",
       "\n",
       "    .dataframe thead th {\n",
       "        text-align: right;\n",
       "    }\n",
       "</style>\n",
       "<table border=\"1\" class=\"dataframe\">\n",
       "  <thead>\n",
       "    <tr style=\"text-align: right;\">\n",
       "      <th></th>\n",
       "      <th>transaction_id</th>\n",
       "      <th>cust_id</th>\n",
       "      <th>tran_date</th>\n",
       "      <th>Qty</th>\n",
       "      <th>Rate</th>\n",
       "      <th>Tax</th>\n",
       "      <th>total_amt</th>\n",
       "      <th>Store_type</th>\n",
       "      <th>DOB</th>\n",
       "      <th>Gender</th>\n",
       "      <th>city_code</th>\n",
       "      <th>prod_cat</th>\n",
       "      <th>prod_sub_cat_code</th>\n",
       "      <th>prod_subcat</th>\n",
       "    </tr>\n",
       "  </thead>\n",
       "  <tbody>\n",
       "    <tr>\n",
       "      <th>23030</th>\n",
       "      <td>49882891062</td>\n",
       "      <td>271982</td>\n",
       "      <td>2011-01-25</td>\n",
       "      <td>4</td>\n",
       "      <td>1330</td>\n",
       "      <td>558.600</td>\n",
       "      <td>5878.600</td>\n",
       "      <td>e-Shop</td>\n",
       "      <td>1976-08-10</td>\n",
       "      <td>M</td>\n",
       "      <td>8.0</td>\n",
       "      <td>Books</td>\n",
       "      <td>10</td>\n",
       "      <td>Non-Fiction</td>\n",
       "    </tr>\n",
       "    <tr>\n",
       "      <th>23031</th>\n",
       "      <td>14787475597</td>\n",
       "      <td>273982</td>\n",
       "      <td>2011-01-25</td>\n",
       "      <td>5</td>\n",
       "      <td>969</td>\n",
       "      <td>508.725</td>\n",
       "      <td>5353.725</td>\n",
       "      <td>e-Shop</td>\n",
       "      <td>1991-10-12</td>\n",
       "      <td>M</td>\n",
       "      <td>4.0</td>\n",
       "      <td>Electronics</td>\n",
       "      <td>4</td>\n",
       "      <td>Mobiles</td>\n",
       "    </tr>\n",
       "    <tr>\n",
       "      <th>23032</th>\n",
       "      <td>50691119572</td>\n",
       "      <td>273031</td>\n",
       "      <td>2011-01-25</td>\n",
       "      <td>1</td>\n",
       "      <td>1148</td>\n",
       "      <td>120.540</td>\n",
       "      <td>1268.540</td>\n",
       "      <td>TeleShop</td>\n",
       "      <td>1980-01-17</td>\n",
       "      <td>F</td>\n",
       "      <td>8.0</td>\n",
       "      <td>Books</td>\n",
       "      <td>6</td>\n",
       "      <td>DIY</td>\n",
       "    </tr>\n",
       "    <tr>\n",
       "      <th>23033</th>\n",
       "      <td>40893803228</td>\n",
       "      <td>272049</td>\n",
       "      <td>2011-01-25</td>\n",
       "      <td>3</td>\n",
       "      <td>1077</td>\n",
       "      <td>339.255</td>\n",
       "      <td>3570.255</td>\n",
       "      <td>e-Shop</td>\n",
       "      <td>1975-06-28</td>\n",
       "      <td>F</td>\n",
       "      <td>6.0</td>\n",
       "      <td>Home and kitchen</td>\n",
       "      <td>11</td>\n",
       "      <td>Bath</td>\n",
       "    </tr>\n",
       "    <tr>\n",
       "      <th>23034</th>\n",
       "      <td>30856003613</td>\n",
       "      <td>266866</td>\n",
       "      <td>2011-01-25</td>\n",
       "      <td>2</td>\n",
       "      <td>444</td>\n",
       "      <td>93.240</td>\n",
       "      <td>981.240</td>\n",
       "      <td>TeleShop</td>\n",
       "      <td>1974-04-18</td>\n",
       "      <td>M</td>\n",
       "      <td>4.0</td>\n",
       "      <td>Footwear</td>\n",
       "      <td>4</td>\n",
       "      <td>Kids</td>\n",
       "    </tr>\n",
       "    <tr>\n",
       "      <th>23035</th>\n",
       "      <td>94340757522</td>\n",
       "      <td>274550</td>\n",
       "      <td>2011-01-25</td>\n",
       "      <td>1</td>\n",
       "      <td>1264</td>\n",
       "      <td>132.720</td>\n",
       "      <td>1396.720</td>\n",
       "      <td>e-Shop</td>\n",
       "      <td>1972-02-21</td>\n",
       "      <td>M</td>\n",
       "      <td>7.0</td>\n",
       "      <td>Books</td>\n",
       "      <td>12</td>\n",
       "      <td>Academic</td>\n",
       "    </tr>\n",
       "    <tr>\n",
       "      <th>23036</th>\n",
       "      <td>89780862956</td>\n",
       "      <td>270022</td>\n",
       "      <td>2011-01-25</td>\n",
       "      <td>1</td>\n",
       "      <td>677</td>\n",
       "      <td>71.085</td>\n",
       "      <td>748.085</td>\n",
       "      <td>e-Shop</td>\n",
       "      <td>1984-04-27</td>\n",
       "      <td>M</td>\n",
       "      <td>9.0</td>\n",
       "      <td>Clothing</td>\n",
       "      <td>4</td>\n",
       "      <td>Mens</td>\n",
       "    </tr>\n",
       "    <tr>\n",
       "      <th>23037</th>\n",
       "      <td>85115299378</td>\n",
       "      <td>271020</td>\n",
       "      <td>2011-01-25</td>\n",
       "      <td>4</td>\n",
       "      <td>1052</td>\n",
       "      <td>441.840</td>\n",
       "      <td>4649.840</td>\n",
       "      <td>MBR</td>\n",
       "      <td>1976-06-20</td>\n",
       "      <td>M</td>\n",
       "      <td>8.0</td>\n",
       "      <td>Home and kitchen</td>\n",
       "      <td>2</td>\n",
       "      <td>Furnishing</td>\n",
       "    </tr>\n",
       "    <tr>\n",
       "      <th>23038</th>\n",
       "      <td>72870271171</td>\n",
       "      <td>270911</td>\n",
       "      <td>2011-01-25</td>\n",
       "      <td>3</td>\n",
       "      <td>1142</td>\n",
       "      <td>359.730</td>\n",
       "      <td>3785.730</td>\n",
       "      <td>TeleShop</td>\n",
       "      <td>1970-05-22</td>\n",
       "      <td>M</td>\n",
       "      <td>2.0</td>\n",
       "      <td>Books</td>\n",
       "      <td>11</td>\n",
       "      <td>Children</td>\n",
       "    </tr>\n",
       "    <tr>\n",
       "      <th>23039</th>\n",
       "      <td>77960931771</td>\n",
       "      <td>271961</td>\n",
       "      <td>2011-01-25</td>\n",
       "      <td>1</td>\n",
       "      <td>447</td>\n",
       "      <td>46.935</td>\n",
       "      <td>493.935</td>\n",
       "      <td>TeleShop</td>\n",
       "      <td>1982-01-15</td>\n",
       "      <td>M</td>\n",
       "      <td>1.0</td>\n",
       "      <td>Books</td>\n",
       "      <td>11</td>\n",
       "      <td>Children</td>\n",
       "    </tr>\n",
       "  </tbody>\n",
       "</table>\n",
       "</div>"
      ],
      "text/plain": [
       "       transaction_id  cust_id  tran_date  Qty  Rate      Tax  total_amt  \\\n",
       "23030     49882891062   271982 2011-01-25    4  1330  558.600   5878.600   \n",
       "23031     14787475597   273982 2011-01-25    5   969  508.725   5353.725   \n",
       "23032     50691119572   273031 2011-01-25    1  1148  120.540   1268.540   \n",
       "23033     40893803228   272049 2011-01-25    3  1077  339.255   3570.255   \n",
       "23034     30856003613   266866 2011-01-25    2   444   93.240    981.240   \n",
       "23035     94340757522   274550 2011-01-25    1  1264  132.720   1396.720   \n",
       "23036     89780862956   270022 2011-01-25    1   677   71.085    748.085   \n",
       "23037     85115299378   271020 2011-01-25    4  1052  441.840   4649.840   \n",
       "23038     72870271171   270911 2011-01-25    3  1142  359.730   3785.730   \n",
       "23039     77960931771   271961 2011-01-25    1   447   46.935    493.935   \n",
       "\n",
       "      Store_type        DOB Gender  city_code          prod_cat  \\\n",
       "23030     e-Shop 1976-08-10      M        8.0             Books   \n",
       "23031     e-Shop 1991-10-12      M        4.0       Electronics   \n",
       "23032   TeleShop 1980-01-17      F        8.0             Books   \n",
       "23033     e-Shop 1975-06-28      F        6.0  Home and kitchen   \n",
       "23034   TeleShop 1974-04-18      M        4.0          Footwear   \n",
       "23035     e-Shop 1972-02-21      M        7.0             Books   \n",
       "23036     e-Shop 1984-04-27      M        9.0          Clothing   \n",
       "23037        MBR 1976-06-20      M        8.0  Home and kitchen   \n",
       "23038   TeleShop 1970-05-22      M        2.0             Books   \n",
       "23039   TeleShop 1982-01-15      M        1.0             Books   \n",
       "\n",
       "       prod_sub_cat_code  prod_subcat  \n",
       "23030                 10  Non-Fiction  \n",
       "23031                  4      Mobiles  \n",
       "23032                  6          DIY  \n",
       "23033                 11         Bath  \n",
       "23034                  4         Kids  \n",
       "23035                 12     Academic  \n",
       "23036                  4         Mens  \n",
       "23037                  2   Furnishing  \n",
       "23038                 11     Children  \n",
       "23039                 11     Children  "
      ]
     },
     "execution_count": 18,
     "metadata": {},
     "output_type": "execute_result"
    }
   ],
   "source": [
    "cust_final.tail(10)"
   ]
  },
  {
   "cell_type": "markdown",
   "id": "8f40ca5e",
   "metadata": {},
   "source": [
    "\n"
   ]
  },
  {
   "cell_type": "markdown",
   "id": "1058e85b",
   "metadata": {},
   "source": [
    "#####    c. “Five-number summary” for continuous variables (min, Q1, median, Q3 and max)"
   ]
  },
  {
   "cell_type": "code",
   "execution_count": 19,
   "id": "4204711c",
   "metadata": {},
   "outputs": [
    {
     "data": {
      "text/html": [
       "<div>\n",
       "<style scoped>\n",
       "    .dataframe tbody tr th:only-of-type {\n",
       "        vertical-align: middle;\n",
       "    }\n",
       "\n",
       "    .dataframe tbody tr th {\n",
       "        vertical-align: top;\n",
       "    }\n",
       "\n",
       "    .dataframe thead th {\n",
       "        text-align: right;\n",
       "    }\n",
       "</style>\n",
       "<table border=\"1\" class=\"dataframe\">\n",
       "  <thead>\n",
       "    <tr style=\"text-align: right;\">\n",
       "      <th></th>\n",
       "      <th>Minimum</th>\n",
       "      <th>Maximum</th>\n",
       "      <th>Median</th>\n",
       "      <th>Q1</th>\n",
       "      <th>Q3</th>\n",
       "    </tr>\n",
       "  </thead>\n",
       "  <tbody>\n",
       "    <tr>\n",
       "      <th>Qty</th>\n",
       "      <td>-5.000</td>\n",
       "      <td>5.0</td>\n",
       "      <td>3.00</td>\n",
       "      <td>1.00</td>\n",
       "      <td>4.0000</td>\n",
       "    </tr>\n",
       "    <tr>\n",
       "      <th>Rate</th>\n",
       "      <td>-1499.000</td>\n",
       "      <td>1500.0</td>\n",
       "      <td>710.00</td>\n",
       "      <td>312.00</td>\n",
       "      <td>1109.0000</td>\n",
       "    </tr>\n",
       "    <tr>\n",
       "      <th>Tax</th>\n",
       "      <td>7.350</td>\n",
       "      <td>787.5</td>\n",
       "      <td>199.08</td>\n",
       "      <td>98.28</td>\n",
       "      <td>365.7675</td>\n",
       "    </tr>\n",
       "    <tr>\n",
       "      <th>total_amt</th>\n",
       "      <td>-8270.925</td>\n",
       "      <td>8287.5</td>\n",
       "      <td>1756.95</td>\n",
       "      <td>762.45</td>\n",
       "      <td>3570.2550</td>\n",
       "    </tr>\n",
       "  </tbody>\n",
       "</table>\n",
       "</div>"
      ],
      "text/plain": [
       "            Minimum  Maximum   Median      Q1         Q3\n",
       "Qty          -5.000      5.0     3.00    1.00     4.0000\n",
       "Rate      -1499.000   1500.0   710.00  312.00  1109.0000\n",
       "Tax           7.350    787.5   199.08   98.28   365.7675\n",
       "total_amt -8270.925   8287.5  1756.95  762.45  3570.2550"
      ]
     },
     "execution_count": 19,
     "metadata": {},
     "output_type": "execute_result"
    }
   ],
   "source": [
    "# Getting column names of continous veriables\n",
    "cont_var = cust_final.select_dtypes(['int', 'float']).drop(columns=['transaction_id','cust_id','city_code',\n",
    "                                                                    'prod_sub_cat_code']).columns\n",
    "\n",
    "\n",
    "# Getting column names of categorical veriables\n",
    "cat_var = cust_final.drop(columns=cont_var).columns\n",
    "\n",
    "\n",
    "A = cust_final[cont_var].agg(['min', 'max', 'median', lambda x: x.quantile(0.25), lambda x: x.quantile(0.75) ]).T\n",
    "\n",
    "\n",
    "A = A.rename(columns={3: 'X', 4: 'Y'})\n",
    "\n",
    "\n",
    "A.columns = ['Minimum', 'Maximum', 'Median', 'Q1', 'Q3']\n",
    "\n",
    "\n",
    "A"
   ]
  },
  {
   "cell_type": "markdown",
   "id": "7b28189f",
   "metadata": {},
   "source": [
    "\n"
   ]
  },
  {
   "cell_type": "markdown",
   "id": "d034124b",
   "metadata": {},
   "source": [
    "#####    d. Frequency tables for all the categorical variables"
   ]
  },
  {
   "cell_type": "code",
   "execution_count": 20,
   "id": "2a362e72",
   "metadata": {
    "scrolled": false
   },
   "outputs": [
    {
     "name": "stdout",
     "output_type": "stream",
     "text": [
      "transaction_id\n",
      "32263938079    4\n",
      "55389581056    3\n",
      "25554803686    3\n",
      "28679132905    3\n",
      "14694035198    3\n",
      "              ..\n",
      "88791150012    1\n",
      "17648795819    1\n",
      "25673128667    1\n",
      "14616200775    1\n",
      "77960931771    1\n",
      "Name: transaction_id, Length: 20878, dtype: int64\n",
      "\n",
      "\n",
      "cust_id\n",
      "268819    13\n",
      "269449    13\n",
      "275252    12\n",
      "272415    12\n",
      "270831    12\n",
      "          ..\n",
      "270876     1\n",
      "272472     1\n",
      "273867     1\n",
      "274139     1\n",
      "273723     1\n",
      "Name: cust_id, Length: 5506, dtype: int64\n",
      "\n",
      "\n",
      "tran_date\n",
      "2011-07-13    35\n",
      "2011-09-25    33\n",
      "2011-11-22    33\n",
      "2011-10-23    33\n",
      "2013-12-21    33\n",
      "              ..\n",
      "2014-02-23     2\n",
      "2014-02-24     2\n",
      "2014-02-27     1\n",
      "2014-02-21     1\n",
      "2014-02-28     1\n",
      "Name: tran_date, Length: 1129, dtype: int64\n",
      "\n",
      "\n",
      "Qty\n",
      " 5    4259\n",
      " 1    4214\n",
      " 3    4174\n",
      " 2    4123\n",
      " 4    4106\n",
      "-4     455\n",
      "-5     452\n",
      "-2     436\n",
      "-1     417\n",
      "-3     404\n",
      "Name: Qty, dtype: int64\n",
      "\n",
      "\n",
      "Rate\n",
      " 552    29\n",
      " 672    29\n",
      " 472    28\n",
      " 618    27\n",
      " 922    27\n",
      "        ..\n",
      "-519     1\n",
      "-172     1\n",
      "-585     1\n",
      "-407     1\n",
      "-203     1\n",
      "Name: Rate, Length: 2551, dtype: int64\n",
      "\n",
      "\n",
      "Tax\n",
      "64.260     26\n",
      "69.300     25\n",
      "129.150    25\n",
      "151.200    23\n",
      "81.900     23\n",
      "           ..\n",
      "415.485     1\n",
      "13.650      1\n",
      "410.445     1\n",
      "601.440     1\n",
      "139.335     1\n",
      "Name: Tax, Length: 4194, dtype: int64\n",
      "\n",
      "\n",
      "total_amt\n",
      " 676.260     22\n",
      " 729.300     22\n",
      " 3049.800    22\n",
      " 1591.200    21\n",
      " 1021.020    21\n",
      "             ..\n",
      "-7635.550     1\n",
      "-3416.660     1\n",
      " 5829.980     1\n",
      "-470.730      1\n",
      " 1466.335     1\n",
      "Name: total_amt, Length: 5764, dtype: int64\n",
      "\n",
      "\n",
      "Store_type\n",
      "e-Shop            9304\n",
      "MBR               4660\n",
      "Flagship store    4575\n",
      "TeleShop          4501\n",
      "Name: Store_type, dtype: int64\n",
      "\n",
      "\n",
      "DOB\n",
      "1982-09-17    32\n",
      "1988-12-27    32\n",
      "1974-02-25    27\n",
      "1972-03-20    25\n",
      "1970-06-09    24\n",
      "              ..\n",
      "1976-01-29     1\n",
      "1980-05-01     1\n",
      "1988-06-23     1\n",
      "1985-06-25     1\n",
      "1972-06-10     1\n",
      "Name: DOB, Length: 3987, dtype: int64\n",
      "\n",
      "\n",
      "Gender\n",
      "M      11804\n",
      "F      11227\n",
      "NaN        9\n",
      "Name: Gender, dtype: int64\n",
      "\n",
      "\n",
      "city_code\n",
      "4.0     2422\n",
      "3.0     2410\n",
      "5.0     2357\n",
      "7.0     2356\n",
      "10.0    2333\n",
      "8.0     2328\n",
      "2.0     2268\n",
      "1.0     2255\n",
      "9.0     2176\n",
      "6.0     2127\n",
      "NaN        8\n",
      "Name: city_code, dtype: int64\n",
      "\n",
      "\n",
      "prod_cat\n",
      "Books               6066\n",
      "Electronics         4895\n",
      "Home and kitchen    4126\n",
      "Footwear            2996\n",
      "Clothing            2960\n",
      "Bags                1997\n",
      "Name: prod_cat, dtype: int64\n",
      "\n",
      "\n",
      "prod_sub_cat_code\n",
      "4     4000\n",
      "3     3065\n",
      "10    2991\n",
      "1     2948\n",
      "11    2057\n",
      "12    2027\n",
      "7     1043\n",
      "2     1007\n",
      "6      989\n",
      "9      985\n",
      "8      970\n",
      "5      958\n",
      "Name: prod_sub_cat_code, dtype: int64\n",
      "\n",
      "\n",
      "prod_subcat\n",
      "Women                  3046\n",
      "Mens                   2910\n",
      "Kids                   1997\n",
      "Tools                  1061\n",
      "Fiction                1043\n",
      "Kitchen                1036\n",
      "Children               1035\n",
      "Mobiles                1030\n",
      "Comics                 1030\n",
      "Bath                   1022\n",
      "Furnishing             1007\n",
      "Non-Fiction            1003\n",
      "DIY                     989\n",
      "Cameras                 985\n",
      "Personal Appliances     970\n",
      "Academic                966\n",
      "Computers               958\n",
      "Audio and video         952\n",
      "Name: prod_subcat, dtype: int64\n",
      "\n",
      "\n"
     ]
    }
   ],
   "source": [
    "# Using print('') two times to make some distance between the tables and make table more readable\n",
    "for var in cust_final:\n",
    "    frequency_table = cust_final[var].value_counts(dropna=False)\n",
    "    print(var)\n",
    "    print(frequency_table)\n",
    "    print('')\n",
    "    print('')"
   ]
  },
  {
   "cell_type": "markdown",
   "id": "45549ba2",
   "metadata": {},
   "source": [
    "\n"
   ]
  },
  {
   "cell_type": "markdown",
   "id": "9d946ae7",
   "metadata": {},
   "source": [
    "### Generate histograms for all continuous variables and frequency bars for categorical variables."
   ]
  },
  {
   "cell_type": "code",
   "execution_count": 21,
   "id": "6f899d20",
   "metadata": {},
   "outputs": [
    {
     "data": {
      "image/png": "[encoded data removed]",
      "text/plain": [
       "<Figure size 640x480 with 1 Axes>"
      ]
     },
     "metadata": {},
     "output_type": "display_data"
    },
    {
     "data": {
      "image/png": "[encoded data removed]",
      "text/plain": [
       "<Figure size 640x480 with 1 Axes>"
      ]
     },
     "metadata": {},
     "output_type": "display_data"
    },
    {
     "data": {
      "image/png": "[encoded data removed]",
      "text/plain": [
       "<Figure size 640x480 with 1 Axes>"
      ]
     },
     "metadata": {},
     "output_type": "display_data"
    },
    {
     "data": {
      "image/png": "[encoded data removed]",
      "text/plain": [
       "<Figure size 640x480 with 1 Axes>"
      ]
     },
     "metadata": {},
     "output_type": "display_data"
    }
   ],
   "source": [
    "# Histograms for continuous veriables\n",
    "for var in cust_final[cont_var]:\n",
    "    cust_final.hist(column=var)"
   ]
  },
  {
   "cell_type": "code",
   "execution_count": 22,
   "id": "b33e594b",
   "metadata": {},
   "outputs": [
    {
     "name": "stdout",
     "output_type": "stream",
     "text": [
      "Frequency Bar Chart for transaction_id\n"
     ]
    },
    {
     "data": {
      "image/png": "[encoded data removed]",
      "text/plain": [
       "<Figure size 640x480 with 1 Axes>"
      ]
     },
     "metadata": {},
     "output_type": "display_data"
    },
    {
     "name": "stdout",
     "output_type": "stream",
     "text": [
      "Frequency Bar Chart for cust_id\n"
     ]
    },
    {
     "data": {
      "image/png": "[encoded data removed]",
      "text/plain": [
       "<Figure size 640x480 with 1 Axes>"
      ]
     },
     "metadata": {},
     "output_type": "display_data"
    },
    {
     "name": "stdout",
     "output_type": "stream",
     "text": [
      "Frequency Bar Chart for tran_date\n"
     ]
    },
    {
     "data": {
      "image/png": "[encoded data removed]",
      "text/plain": [
       "<Figure size 640x480 with 1 Axes>"
      ]
     },
     "metadata": {},
     "output_type": "display_data"
    },
    {
     "name": "stdout",
     "output_type": "stream",
     "text": [
      "Frequency Bar Chart for Store_type\n"
     ]
    },
    {
     "data": {
      "image/png": "[encoded data removed]",
      "text/plain": [
       "<Figure size 640x480 with 1 Axes>"
      ]
     },
     "metadata": {},
     "output_type": "display_data"
    },
    {
     "name": "stdout",
     "output_type": "stream",
     "text": [
      "Frequency Bar Chart for DOB\n"
     ]
    },
    {
     "data": {
      "image/png": "[encoded data removed]",
      "text/plain": [
       "<Figure size 640x480 with 1 Axes>"
      ]
     },
     "metadata": {},
     "output_type": "display_data"
    },
    {
     "name": "stdout",
     "output_type": "stream",
     "text": [
      "Frequency Bar Chart for Gender\n"
     ]
    },
    {
     "data": {
      "image/png": "[encoded data removed]",
      "text/plain": [
       "<Figure size 640x480 with 1 Axes>"
      ]
     },
     "metadata": {},
     "output_type": "display_data"
    },
    {
     "name": "stdout",
     "output_type": "stream",
     "text": [
      "Frequency Bar Chart for city_code\n"
     ]
    },
    {
     "data": {
      "image/png": "[encoded data removed]",
      "text/plain": [
       "<Figure size 640x480 with 1 Axes>"
      ]
     },
     "metadata": {},
     "output_type": "display_data"
    },
    {
     "name": "stdout",
     "output_type": "stream",
     "text": [
      "Frequency Bar Chart for prod_cat\n"
     ]
    },
    {
     "data": {
      "image/png": "[encoded data removed]",
      "text/plain": [
       "<Figure size 640x480 with 1 Axes>"
      ]
     },
     "metadata": {},
     "output_type": "display_data"
    },
    {
     "name": "stdout",
     "output_type": "stream",
     "text": [
      "Frequency Bar Chart for prod_sub_cat_code\n"
     ]
    },
    {
     "data": {
      "image/png": "[encoded data removed]",
      "text/plain": [
       "<Figure size 640x480 with 1 Axes>"
      ]
     },
     "metadata": {},
     "output_type": "display_data"
    },
    {
     "name": "stdout",
     "output_type": "stream",
     "text": [
      "Frequency Bar Chart for prod_subcat\n"
     ]
    },
    {
     "data": {
      "image/png": "[encoded data removed]",
      "text/plain": [
       "<Figure size 640x480 with 1 Axes>"
      ]
     },
     "metadata": {},
     "output_type": "display_data"
    }
   ],
   "source": [
    "# Frequency bars for categorical veriables\n",
    "for var in cat_var:\n",
    "    frequency_table = cust_final[var].value_counts(dropna=False)\n",
    "    frequency_table.plot.bar()\n",
    "    plt.title(print(\"Frequency Bar Chart for\",var))\n",
    "    plt.xlabel(var)\n",
    "    plt.ylabel(\"Frequency\")\n",
    "    plt.show()"
   ]
  },
  {
   "cell_type": "markdown",
   "id": "f0988f3e",
   "metadata": {},
   "source": [
    "\n"
   ]
  },
  {
   "cell_type": "markdown",
   "id": "53ff0038",
   "metadata": {},
   "source": [
    "### Calculate the following information using the merged dataset :"
   ]
  },
  {
   "cell_type": "markdown",
   "id": "c4cde54c",
   "metadata": {},
   "source": [
    "\n"
   ]
  },
  {
   "cell_type": "markdown",
   "id": "01de9aa3",
   "metadata": {},
   "source": [
    "##### a. Time period of the available transaction data"
   ]
  },
  {
   "cell_type": "code",
   "execution_count": 23,
   "id": "6c000766",
   "metadata": {},
   "outputs": [
    {
     "name": "stdout",
     "output_type": "stream",
     "text": [
      "Timeperiod of the available transaction data is between 2011-01-25 and 2014-02-28 . In days it would be 1130 days\n"
     ]
    }
   ],
   "source": [
    "print('Timeperiod of the available transaction data is between', cust_final.tran_date.min().date(), 'and', \n",
    "      cust_final.tran_date.max().date(),'. In days it would be',(cust_final.tran_date.max() - \n",
    "                                                                 cust_final.tran_date.min()).days,'days' )"
   ]
  },
  {
   "cell_type": "markdown",
   "id": "1e703dde",
   "metadata": {},
   "source": [
    "\n"
   ]
  },
  {
   "cell_type": "markdown",
   "id": "4933c0c6",
   "metadata": {},
   "source": [
    "##### b. Count of transactions where the total amount of transaction was negative"
   ]
  },
  {
   "cell_type": "code",
   "execution_count": 24,
   "id": "5cc40f17",
   "metadata": {},
   "outputs": [
    {
     "name": "stdout",
     "output_type": "stream",
     "text": [
      "Count of transaction where total amount of transaction was negative:  2164\n"
     ]
    }
   ],
   "source": [
    "print('Count of transaction where total amount of transaction was negative: ',\n",
    "      cust_final.total_amt[cust_final.total_amt <0].count())"
   ]
  },
  {
   "cell_type": "markdown",
   "id": "1176d4be",
   "metadata": {},
   "source": [
    "\n"
   ]
  },
  {
   "cell_type": "markdown",
   "id": "04a037b5",
   "metadata": {},
   "source": [
    "### Analyze which product categories are more popular among females vs male customers."
   ]
  },
  {
   "cell_type": "code",
   "execution_count": 25,
   "id": "49cbdaa8",
   "metadata": {},
   "outputs": [
    {
     "data": {
      "text/html": [
       "<div>\n",
       "<style scoped>\n",
       "    .dataframe tbody tr th:only-of-type {\n",
       "        vertical-align: middle;\n",
       "    }\n",
       "\n",
       "    .dataframe tbody tr th {\n",
       "        vertical-align: top;\n",
       "    }\n",
       "\n",
       "    .dataframe thead th {\n",
       "        text-align: right;\n",
       "    }\n",
       "</style>\n",
       "<table border=\"1\" class=\"dataframe\">\n",
       "  <thead>\n",
       "    <tr style=\"text-align: right;\">\n",
       "      <th></th>\n",
       "      <th>prod_cat</th>\n",
       "      <th>cust_id</th>\n",
       "      <th>Gender</th>\n",
       "    </tr>\n",
       "  </thead>\n",
       "  <tbody>\n",
       "    <tr>\n",
       "      <th>0</th>\n",
       "      <td>Bags</td>\n",
       "      <td>1004</td>\n",
       "      <td>M</td>\n",
       "    </tr>\n",
       "    <tr>\n",
       "      <th>1</th>\n",
       "      <td>Books</td>\n",
       "      <td>3116</td>\n",
       "      <td>M</td>\n",
       "    </tr>\n",
       "    <tr>\n",
       "      <th>2</th>\n",
       "      <td>Clothing</td>\n",
       "      <td>1518</td>\n",
       "      <td>M</td>\n",
       "    </tr>\n",
       "    <tr>\n",
       "      <th>3</th>\n",
       "      <td>Electronics</td>\n",
       "      <td>2567</td>\n",
       "      <td>M</td>\n",
       "    </tr>\n",
       "    <tr>\n",
       "      <th>4</th>\n",
       "      <td>Footwear</td>\n",
       "      <td>1528</td>\n",
       "      <td>F</td>\n",
       "    </tr>\n",
       "    <tr>\n",
       "      <th>5</th>\n",
       "      <td>Home and kitchen</td>\n",
       "      <td>2132</td>\n",
       "      <td>M</td>\n",
       "    </tr>\n",
       "  </tbody>\n",
       "</table>\n",
       "</div>"
      ],
      "text/plain": [
       "           prod_cat  cust_id Gender\n",
       "0              Bags     1004      M\n",
       "1             Books     3116      M\n",
       "2          Clothing     1518      M\n",
       "3       Electronics     2567      M\n",
       "4          Footwear     1528      F\n",
       "5  Home and kitchen     2132      M"
      ]
     },
     "execution_count": 25,
     "metadata": {},
     "output_type": "execute_result"
    }
   ],
   "source": [
    "## For this question will ignore null values as null is not asked\n",
    "\n",
    "\n",
    "# Summerizing the table on Gender and prod_cat level\n",
    "B = cust_final.groupby(by=['Gender', 'prod_cat'])['cust_id'].count().reset_index()\n",
    "\n",
    "# Finding highest sales in any gender in categories\n",
    "C = B.groupby(by='prod_cat')[['cust_id']].max()\n",
    "\n",
    "\n",
    "\n",
    "pd.merge(C, B, on=['prod_cat','cust_id' ], how='left')"
   ]
  },
  {
   "cell_type": "markdown",
   "id": "3230054c",
   "metadata": {},
   "source": [
    "\n"
   ]
  },
  {
   "cell_type": "markdown",
   "id": "76d161c3",
   "metadata": {},
   "source": [
    "### Which City code has the maximum customers and what was the percentage of customers from that city?"
   ]
  },
  {
   "cell_type": "code",
   "execution_count": 26,
   "id": "a80b1c34",
   "metadata": {},
   "outputs": [
    {
     "name": "stdout",
     "output_type": "stream",
     "text": [
      "   city_code  customer_Id\n",
      "0        3.0     0.105366\n",
      "City code 3 has the highest customer count and 10.05366% of customers are from this city\n"
     ]
    }
   ],
   "source": [
    "## For this question null value is ignored as there are only 8 null values in city_code\n",
    "\n",
    "print((cust.groupby(by='city_code')[['customer_Id']].count()/\n",
    " cust.shape[0]).sort_values(by='customer_Id', ascending=False).reset_index().head(1))\n",
    "\n",
    "\n",
    "print('City code 3 has the highest customer count and 10.05366% of customers are from this city')"
   ]
  },
  {
   "cell_type": "markdown",
   "id": "40f1a1a2",
   "metadata": {},
   "source": [
    "\n"
   ]
  },
  {
   "cell_type": "markdown",
   "id": "f818ee93",
   "metadata": {},
   "source": [
    "### Which store type sells the maximum products by value and by quantity?"
   ]
  },
  {
   "cell_type": "code",
   "execution_count": 27,
   "id": "fcef681c",
   "metadata": {},
   "outputs": [
    {
     "name": "stdout",
     "output_type": "stream",
     "text": [
      "Store_type          e-Shop\n",
      "total_amt     19842623.125\n",
      "dtype: object\n",
      "Store_type    e-Shop\n",
      "Qty            22790\n",
      "dtype: object\n",
      "Storetype \"e-Shop\" sells maximum products by value and quantity\n"
     ]
    }
   ],
   "source": [
    "print(cust_final.groupby(by='Store_type')[['total_amt']].sum().reset_index().max())\n",
    "\n",
    "print(cust_final.groupby(by='Store_type')[['Qty']].sum().reset_index().max())\n",
    "\n",
    "print('Storetype \"e-Shop\" sells maximum products by value and quantity')"
   ]
  },
  {
   "cell_type": "markdown",
   "id": "e484a961",
   "metadata": {},
   "source": [
    "\n"
   ]
  },
  {
   "cell_type": "markdown",
   "id": "e70c97b4",
   "metadata": {},
   "source": [
    "### What was the total amount earned from the \"Electronics\" and \"Clothing\" categories from Flagship Stores?"
   ]
  },
  {
   "cell_type": "code",
   "execution_count": 28,
   "id": "a59e68fc",
   "metadata": {},
   "outputs": [
    {
     "name": "stdout",
     "output_type": "stream",
     "text": [
      "Total amount earned from the \"Electronics\" and \"Clothing\" category in \"Flagship Stores\": 3409559.27\n"
     ]
    }
   ],
   "source": [
    "C  = cust_final.loc[(cust_final['prod_cat'].isin\n",
    "                (['Clothing','Electronics'])) & (cust_final['Store_type'].isin\n",
    "                                                 (['Flagship store']))]['total_amt']\n",
    "\n",
    "\n",
    "print('Total amount earned from the \"Electronics\" and \"Clothing\" category in \"Flagship Stores\":',C.sum())"
   ]
  },
  {
   "cell_type": "markdown",
   "id": "177dda5f",
   "metadata": {},
   "source": [
    "\n"
   ]
  },
  {
   "cell_type": "markdown",
   "id": "3cf3e3fc",
   "metadata": {},
   "source": [
    "### What was the total amount earned from \"Male\" customers under the \"Electronics\" category?"
   ]
  },
  {
   "cell_type": "code",
   "execution_count": 29,
   "id": "6065efd6",
   "metadata": {},
   "outputs": [
    {
     "name": "stdout",
     "output_type": "stream",
     "text": [
      "Total amount earned from \"Male\" customers under the \"Electronics category\":  5711351.62\n"
     ]
    }
   ],
   "source": [
    "print('Total amount earned from \"Male\" customers under the \"Electronics category\": '\n",
    "      ,cust_final.loc[(cust_final['Gender'].isin(['M'])) & \n",
    "                      (cust_final['prod_cat'].isin(['Electronics']))]['total_amt'].sum())"
   ]
  },
  {
   "cell_type": "markdown",
   "id": "3a8da028",
   "metadata": {},
   "source": [
    "\n"
   ]
  },
  {
   "cell_type": "markdown",
   "id": "ca24e1db",
   "metadata": {},
   "source": [
    "## How many customers have more than 10 unique transactions, after removing all transactions which have any negative amounts?"
   ]
  },
  {
   "cell_type": "code",
   "execution_count": 30,
   "id": "535ca55f",
   "metadata": {},
   "outputs": [
    {
     "name": "stdout",
     "output_type": "stream",
     "text": [
      "Customers having more then 10 unique transactions, after removing all transactions which have any negative amount: 6\n"
     ]
    }
   ],
   "source": [
    "D = cust_final.groupby(by=['transaction_id','cust_id'])[['total_amt']].sum().reset_index()\n",
    "\n",
    "\n",
    "E = D.loc[D['total_amt'] >= 0]\n",
    "\n",
    "\n",
    "F = E.groupby(by='cust_id')[['transaction_id']].count().reset_index()\n",
    "\n",
    "\n",
    "print('Customers having more then 10 unique transactions, after removing all transactions which have any negative amount:',\n",
    "      F[F['transaction_id'] > 10].shape[0])"
   ]
  },
  {
   "cell_type": "markdown",
   "id": "5c0dab70",
   "metadata": {},
   "source": [
    "\n"
   ]
  },
  {
   "cell_type": "markdown",
   "id": "3fb6a985",
   "metadata": {},
   "source": [
    "## For all customers aged between 25 - 35, find out:"
   ]
  },
  {
   "cell_type": "code",
   "execution_count": 31,
   "id": "d758d0fd",
   "metadata": {},
   "outputs": [],
   "source": [
    "cust_final_1 = cust_final[((pd.to_datetime(dt.datetime.today().\n",
    "                                           date())-cust_final['DOB'])/pd.Timedelta(days=365.25) <=35) & \n",
    "                          ((pd.to_datetime(dt.datetime.today().date())-cust_final['DOB'])/pd.Timedelta\n",
    "                           (days=365.25) >=25)]"
   ]
  },
  {
   "cell_type": "markdown",
   "id": "67c2d533",
   "metadata": {},
   "source": [
    "### What was the total amount spent for “Electronics” and “Books” product categories?"
   ]
  },
  {
   "cell_type": "code",
   "execution_count": 32,
   "id": "0e4aeff0",
   "metadata": {},
   "outputs": [
    {
     "name": "stdout",
     "output_type": "stream",
     "text": [
      "Total amount spent for \"Electronics\" and \"Books\" : 4495579.79\n"
     ]
    }
   ],
   "source": [
    "G  = cust_final_1.loc[cust_final_1['prod_cat'].isin(['Electronics', 'Books'])]['total_amt']\n",
    "\n",
    "\n",
    "print('Total amount spent for \"Electronics\" and \"Books\" :',G.sum())"
   ]
  },
  {
   "cell_type": "markdown",
   "id": "9455537a",
   "metadata": {},
   "source": [
    "\n"
   ]
  },
  {
   "cell_type": "markdown",
   "id": "4759eda1",
   "metadata": {},
   "source": [
    "### What was the total amount spent by these customers between 1st Jan, 2014 to 1st Mar, 2014?"
   ]
  },
  {
   "cell_type": "code",
   "execution_count": 33,
   "id": "ca47bf42",
   "metadata": {},
   "outputs": [
    {
     "name": "stdout",
     "output_type": "stream",
     "text": [
      "Total amount spent by these customers between 1st jan 2014 to 1st march 2014: 507714.35\n"
     ]
    }
   ],
   "source": [
    " H = cust_final_1[(cust_final_1['tran_date'] >= pd.to_datetime(dt.date(year = 2014,month = 1,day = 1))) &\n",
    "          (cust_final_1['tran_date'] <= pd.to_datetime(dt.date(year = 2014,month = 3,day = 1)))]['total_amt'].sum()\n",
    "    \n",
    "    \n",
    "print('Total amount spent by these customers between 1st jan 2014 to 1st march 2014:',H)"
   ]
  }
 ],
 "metadata": {
  "kernelspec": {
   "display_name": "Python 3 (ipykernel)",
   "language": "python",
   "name": "python3"
  },
  "language_info": {
   "codemirror_mode": {
    "name": "ipython",
    "version": 3
   },
   "file_extension": ".py",
   "mimetype": "text/x-python",
   "name": "python",
   "nbconvert_exporter": "python",
   "pygments_lexer": "ipython3",
   "version": "3.10.9"
  }
 },
 "nbformat": 4,
 "nbformat_minor": 5
}
